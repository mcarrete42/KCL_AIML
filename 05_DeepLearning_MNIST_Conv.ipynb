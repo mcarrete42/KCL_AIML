{
  "nbformat": 4,
  "nbformat_minor": 0,
  "metadata": {
    "kernelspec": {
      "display_name": "Python 3",
      "language": "python",
      "name": "python3"
    },
    "language_info": {
      "codemirror_mode": {
        "name": "ipython",
        "version": 3
      },
      "file_extension": ".py",
      "mimetype": "text/x-python",
      "name": "python",
      "nbconvert_exporter": "python",
      "pygments_lexer": "ipython3",
      "version": "3.7.7"
    },
    "colab": {
      "name": "Copy of MNIST-Conv.ipynb",
      "provenance": [],
      "collapsed_sections": [],
      "include_colab_link": true
    },
    "accelerator": "GPU"
  },
  "cells": [
    {
      "cell_type": "markdown",
      "metadata": {
        "id": "view-in-github",
        "colab_type": "text"
      },
      "source": [
        "<a href=\"https://colab.research.google.com/github/mcarrete42/KCL_AIML/blob/master/05_DeepLearning_MNIST_Conv.ipynb\" target=\"_parent\"><img src=\"https://colab.research.google.com/assets/colab-badge.svg\" alt=\"Open In Colab\"/></a>"
      ]
    },
    {
      "cell_type": "markdown",
      "metadata": {
        "id": "BngqxA3kWI7T",
        "colab_type": "text"
      },
      "source": [
        "To explore this ipython notebook, press `SHIFT+ENTER` to progress to the next cell. Feel free to make changes, enter code, and hack around. You can create new code cells by selecting `INSERT->Insert Cell Below`\n",
        "\n",
        "# MNIST Example (Part 1)\n",
        "\n",
        "MNIST is a computer vision dataset consisting of 70,000 images of handwritten digits. Each image has 28x28 pixels for a total of 784 features, and is associated with a digit between 0-9.\n",
        "\n",
        "<img src=\"http://corpocrat.com/wp-content/uploads/2014/10/figure_1.png\" width=200px>\n",
        "\n",
        "\n",
        "In this exercise, you will construct a deep convolutional network to recognize each image. Note that this exercise assumes some basic familiarity with python and machine learning."
      ]
    },
    {
      "cell_type": "code",
      "metadata": {
        "id": "OONN7WAEWI7Y",
        "colab_type": "code",
        "colab": {}
      },
      "source": [
        "from __future__ import print_function\n",
        "\n",
        "import keras\n",
        "import numpy as np\n",
        "from tensorflow import keras\n",
        "from keras import layers\n",
        "\n",
        "from keras.datasets import mnist\n",
        "from keras.models import Sequential\n",
        "from keras.optimizers import RMSprop\n",
        "\n",
        "batch_size = 32\n",
        "num_classes = 10\n",
        "epochs = 10"
      ],
      "execution_count": null,
      "outputs": []
    },
    {
      "cell_type": "markdown",
      "metadata": {
        "collapsed": true,
        "id": "DBn3xfwEWI7p",
        "colab_type": "text"
      },
      "source": [
        "The MNIST dataset can be found on Yann LeCunn’s website."
      ]
    },
    {
      "cell_type": "code",
      "metadata": {
        "id": "OclM_m4xWI7v",
        "colab_type": "code",
        "colab": {
          "base_uri": "https://localhost:8080/",
          "height": 86
        },
        "outputId": "f7c53eef-49be-4f13-e63f-08ce2c161052"
      },
      "source": [
        "(x_train, y_train), (x_test, y_test) = mnist.load_data()\n",
        "\n",
        "x_train = x_train.reshape(60000, 28, 28, 1)\n",
        "x_test = x_test.reshape(10000, 28, 28, 1)\n",
        "x_train = x_train.astype('float32')\n",
        "x_test = x_test.astype('float32')\n",
        "x_train /= 255\n",
        "x_test /= 255\n",
        "print(x_train.shape, 'train samples')\n",
        "print(x_test.shape, 'test samples')\n",
        "\n",
        "# convert class vectors to binary class matrices\n",
        "y_train = keras.utils.to_categorical(y_train, num_classes)\n",
        "y_test = keras.utils.to_categorical(y_test, num_classes)"
      ],
      "execution_count": null,
      "outputs": [
        {
          "output_type": "stream",
          "text": [
            "Downloading data from https://storage.googleapis.com/tensorflow/tf-keras-datasets/mnist.npz\n",
            "11493376/11490434 [==============================] - 0s 0us/step\n",
            "(60000, 28, 28, 1) train samples\n",
            "(10000, 28, 28, 1) test samples\n"
          ],
          "name": "stdout"
        }
      ]
    },
    {
      "cell_type": "markdown",
      "metadata": {
        "id": "vyuxPkgcWI79",
        "colab_type": "text"
      },
      "source": [
        "## Model specification\n",
        "Training a deep learning model requires, among other things:\n",
        "* Specifying the dataset\n",
        "* Building a model from a list of layers\n",
        "* Cost function\n",
        "* Learning rule. \n",
        "\n",
        "Here we guide you through each item in turn.\n",
        "\n",
        "### Initializing weights\n",
        "There are many ways of initializing weight matrices. In this tutorial, we initialize the weights using a Glorot Uniform initialiser (draws from a specific uniform distribution) or a Random Normal, and we initialize the bias using zeros."
      ]
    },
    {
      "cell_type": "code",
      "metadata": {
        "id": "Jt1BPOidWI8A",
        "colab_type": "code",
        "colab": {}
      },
      "source": [
        "#kernel_initializer = keras.initializers.GlorotUniform()\n",
        "kernel_initializer = keras.initializers.RandomNormal(mean=0.0, stddev=0.01)\n",
        "bias_initializer = keras.initializers.Zeros()"
      ],
      "execution_count": null,
      "outputs": []
    },
    {
      "cell_type": "markdown",
      "metadata": {
        "id": "HaFrP6xgWI8I",
        "colab_type": "text"
      },
      "source": [
        "### Model architecture\n",
        "The model is specified as a list of layers. For classifying MNIST images, we use a Convolutional Network as below\n",
        "\n"
      ]
    },
    {
      "cell_type": "code",
      "metadata": {
        "id": "b6AMfUDJWI8K",
        "colab_type": "code",
        "colab": {}
      },
      "source": [
        "input_size = x_train.shape[1:]\n",
        "\n",
        "model = Sequential()\n",
        "\n",
        "model.add(keras.Input(shape = input_size))\n",
        "model.add(layers.Conv2D(filters=20, kernel_size=5, padding='same',activation='relu', # Using filters=32 and kernel_size=3 is more often used\n",
        "                        kernel_initializer=kernel_initializer, bias_initializer=bias_initializer))\n",
        "model.add(layers.MaxPooling2D(pool_size=(2, 2)))\n",
        "\n",
        "# OPTION 1: ADD THESE LAYERS AND SEE HOW MANY PARAMETERS AND HOW MUCH ACCURACY YOU GET, COMMENT THE ONES IN OPTION 2\n",
        "#-------------------------------------------\n",
        "#model.add(layers.Conv2D(filters=64, kernel_size=3, padding='same',activation='relu',\n",
        "#                       kernel_initializer=kernel_initializer, bias_initializer=bias_initializer))\n",
        "#model.add(layers.MaxPooling2D(pool_size=(2, 2)))\n",
        "#-------------------------------------------\n",
        "\n",
        "model.add(layers.Flatten()) # YOU ALWAYS KEEP THIS FOR CONV NETWORKS AT SOME POINT, TO CONVERT FROM 3D TO 2D INPUT\n",
        "\n",
        "# OPTION 2: ADD THESE LAYERS AND SEE HOW MANY PARAMETERS AND HOW MUCH ACCURACY YOU GET, COMMENT THE ONES IN OPTION 1\n",
        "#-------------------------------------------\n",
        "model.add(layers.Dense(500, activation='relu',\n",
        "                      kernel_initializer=kernel_initializer, bias_initializer=bias_initializer))\n",
        "#-------------------------------------------\n",
        "\n",
        "model.add(layers.Dropout(0.5))\n",
        "model.add(layers.Dense(num_classes, activation='softmax',\n",
        "                      kernel_initializer=kernel_initializer, bias_initializer=bias_initializer))"
      ],
      "execution_count": null,
      "outputs": []
    },
    {
      "cell_type": "code",
      "metadata": {
        "id": "DJkKtLOUWI8S",
        "colab_type": "code",
        "colab": {
          "base_uri": "https://localhost:8080/",
          "height": 364
        },
        "outputId": "e0de115c-1203-4eea-ba39-de07fcd4d793"
      },
      "source": [
        "model.summary() # CHECK HERE HOW MANY PARAMETERS YOUR NETWORK HAS"
      ],
      "execution_count": null,
      "outputs": [
        {
          "output_type": "stream",
          "text": [
            "Model: \"sequential\"\n",
            "_________________________________________________________________\n",
            "Layer (type)                 Output Shape              Param #   \n",
            "=================================================================\n",
            "conv2d (Conv2D)              (None, 28, 28, 20)        520       \n",
            "_________________________________________________________________\n",
            "max_pooling2d (MaxPooling2D) (None, 14, 14, 20)        0         \n",
            "_________________________________________________________________\n",
            "flatten (Flatten)            (None, 3920)              0         \n",
            "_________________________________________________________________\n",
            "dense (Dense)                (None, 500)               1960500   \n",
            "_________________________________________________________________\n",
            "dropout (Dropout)            (None, 500)               0         \n",
            "_________________________________________________________________\n",
            "dense_1 (Dense)              (None, 10)                5010      \n",
            "=================================================================\n",
            "Total params: 1,966,030\n",
            "Trainable params: 1,966,030\n",
            "Non-trainable params: 0\n",
            "_________________________________________________________________\n"
          ],
          "name": "stdout"
        }
      ]
    },
    {
      "cell_type": "markdown",
      "metadata": {
        "id": "RV3Nj9oyWI8f",
        "colab_type": "text"
      },
      "source": [
        "### Optimizer, Costs and Metrics\n",
        "One common cost function which we use here is the categorical cross entropy loss.\n",
        "\n",
        "For optimizer, we can use the Adam algorithm, which is an extension of the stochastic gradient descent algorithm. We can also use the original stochastic gradient descent. \n",
        "\n",
        "For metrics, we will stick with accuracy."
      ]
    },
    {
      "cell_type": "code",
      "metadata": {
        "id": "SdW_bjd2WI8j",
        "colab_type": "code",
        "colab": {}
      },
      "source": [
        "loss = keras.losses.CategoricalCrossentropy()\n",
        "#optimizer = keras.optimizers.Adam()\n",
        "optimizer = keras.optimizers.SGD(\n",
        "    learning_rate=0.1, momentum=0.9 # If you go with option 1, a learning rate or 0.01 OR USING ADAM would be better. For option 2, learning rate 0.1 is ok.\n",
        ")\n",
        "\n",
        "\n",
        "model.compile(loss=loss,\n",
        "              optimizer=optimizer,\n",
        "              metrics=['accuracy'])"
      ],
      "execution_count": null,
      "outputs": []
    },
    {
      "cell_type": "markdown",
      "metadata": {
        "id": "Mglh8VAbWI8p",
        "colab_type": "text"
      },
      "source": [
        "Putting it all together\n",
        "We are ready to put all the ingredients together and run our model!"
      ]
    },
    {
      "cell_type": "code",
      "metadata": {
        "scrolled": false,
        "id": "ae3jUAsWWI8s",
        "colab_type": "code",
        "colab": {
          "base_uri": "https://localhost:8080/",
          "height": 399
        },
        "outputId": "8d00f6c2-16da-4db3-82cf-f039f6457785"
      },
      "source": [
        "history = model.fit(x_train, y_train,\n",
        "                    batch_size=batch_size,\n",
        "                    epochs=epochs,\n",
        "                    verbose=1,\n",
        "                    validation_data=(x_test, y_test))\n",
        "score = model.evaluate(x_test, y_test, verbose=0)\n",
        "print('Test loss:', score[0])\n",
        "print('Test accuracy:', score[1])"
      ],
      "execution_count": null,
      "outputs": [
        {
          "output_type": "stream",
          "text": [
            "Epoch 1/10\n",
            "1875/1875 [==============================] - 5s 3ms/step - loss: 0.4609 - accuracy: 0.8574 - val_loss: 0.1692 - val_accuracy: 0.9521\n",
            "Epoch 2/10\n",
            "1875/1875 [==============================] - 5s 2ms/step - loss: 0.1043 - accuracy: 0.9697 - val_loss: 0.0516 - val_accuracy: 0.9833\n",
            "Epoch 3/10\n",
            "1875/1875 [==============================] - 5s 3ms/step - loss: 0.0757 - accuracy: 0.9771 - val_loss: 0.0457 - val_accuracy: 0.9848\n",
            "Epoch 4/10\n",
            "1875/1875 [==============================] - 5s 2ms/step - loss: 0.0627 - accuracy: 0.9809 - val_loss: 0.0422 - val_accuracy: 0.9873\n",
            "Epoch 5/10\n",
            "1875/1875 [==============================] - 5s 3ms/step - loss: 0.0533 - accuracy: 0.9836 - val_loss: 0.0465 - val_accuracy: 0.9855\n",
            "Epoch 6/10\n",
            "1875/1875 [==============================] - 5s 3ms/step - loss: 0.0514 - accuracy: 0.9846 - val_loss: 0.0456 - val_accuracy: 0.9874\n",
            "Epoch 7/10\n",
            "1875/1875 [==============================] - 5s 2ms/step - loss: 0.0398 - accuracy: 0.9875 - val_loss: 0.0418 - val_accuracy: 0.9884\n",
            "Epoch 8/10\n",
            "1875/1875 [==============================] - 5s 3ms/step - loss: 0.0366 - accuracy: 0.9886 - val_loss: 0.0355 - val_accuracy: 0.9893\n",
            "Epoch 9/10\n",
            "1875/1875 [==============================] - 5s 3ms/step - loss: 0.0314 - accuracy: 0.9899 - val_loss: 0.0393 - val_accuracy: 0.9884\n",
            "Epoch 10/10\n",
            "1875/1875 [==============================] - 5s 2ms/step - loss: 0.0285 - accuracy: 0.9910 - val_loss: 0.0374 - val_accuracy: 0.9897\n",
            "Test loss: 0.037430163472890854\n",
            "Test accuracy: 0.9897000193595886\n"
          ],
          "name": "stdout"
        }
      ]
    },
    {
      "cell_type": "markdown",
      "metadata": {
        "id": "IWge3uJmWI82",
        "colab_type": "text"
      },
      "source": [
        "During the training, batches of the training data are sent through the model, calling each layers’ `fprop()` and `bprop()` functionalities to compute the gradients and update the weights."
      ]
    },
    {
      "cell_type": "markdown",
      "metadata": {
        "id": "Kq9Q5vtMWI84",
        "colab_type": "text"
      },
      "source": [
        "### Using the trained model\n",
        "Now that the model is successfully trained, we can use the trained model to classify a novel image, measure performance, and visualize the weights and training results.\n",
        "\n",
        "#### Get outputs\n",
        "Given a set of images such as those contained in the iterable `x_test`, we can fetch the ouput of the final model layer via\n",
        "\n"
      ]
    },
    {
      "cell_type": "code",
      "metadata": {
        "id": "zyetdiBdWI86",
        "colab_type": "code",
        "colab": {}
      },
      "source": [
        "results = model.predict(x_test)"
      ],
      "execution_count": null,
      "outputs": []
    },
    {
      "cell_type": "markdown",
      "metadata": {
        "id": "9KC8eohMWI9C",
        "colab_type": "text"
      },
      "source": [
        "The variable results is a numpy array with shape `(num_test_examples, num_outputs) = (10000,10)` with the model probabilities for each label."
      ]
    },
    {
      "cell_type": "markdown",
      "metadata": {
        "id": "-qlvpEElWI9F",
        "colab_type": "text"
      },
      "source": [
        "## Inference\n",
        "\n",
        "Now let's download a new digit image from the web, and use our trained model to recognize the digit. We first download the image and scale it to the 28x28 pixels that our model expects."
      ]
    },
    {
      "cell_type": "code",
      "metadata": {
        "id": "ZM17MB4ZWI9H",
        "colab_type": "code",
        "colab": {
          "base_uri": "https://localhost:8080/",
          "height": 282
        },
        "outputId": "99b8d890-6c20-4303-d86b-687f68cb4982"
      },
      "source": [
        "import urllib.request\n",
        "from PIL import Image\n",
        "import numpy as np\n",
        "import matplotlib.pyplot as plt\n",
        "%matplotlib inline \n",
        "\n",
        "# scale to 28x28 pixels\n",
        "img = Image.open(\"digit.jpeg\") # FIND A HAND DRAWN DIGIT IMAGE (SHOULD BE SQUARE IN DIMENSIONS) AND UPLOAD IT TO THE NOTEBOOK\n",
        "img.thumbnail((28, 28))\n",
        "\n",
        "digit = np.asarray(img, dtype=np.float32)[:, :, 0]\n",
        "\n",
        "# reshape to a single feature vector\n",
        "digit = digit.reshape(28,28,1)\n",
        "digit /= 255\n",
        "digit = np.ones((28,28,1)) - digit\n",
        "\n",
        "digit\n",
        "# store digit into a GPU tensor\n",
        "x_new = np.zeros((batch_size, 28, 28, 1), dtype=np.float32)\n",
        "x_new[0,:] = digit\n",
        "#\n",
        "plt.figure(2)\n",
        "plt.imshow(x_new[0].reshape(28,28))\n",
        "print('Predicted digit:',np.argmax(model.predict(x_new[0:1])))"
      ],
      "execution_count": null,
      "outputs": [
        {
          "output_type": "stream",
          "text": [
            "Predicted digit: 4\n"
          ],
          "name": "stdout"
        },
        {
          "output_type": "display_data",
          "data": {
            "image/png": "[encoded data removed]",
            "text/plain": [
              "<Figure size 432x288 with 1 Axes>"
            ]
          },
          "metadata": {
            "tags": [],
            "needs_background": "light"
          }
        }
      ]
    },
    {
      "cell_type": "code",
      "metadata": {
        "id": "8KBjan03WI9P",
        "colab_type": "code",
        "colab": {
          "base_uri": "https://localhost:8080/",
          "height": 52
        },
        "outputId": "e56c324b-7cd0-41da-c6a1-bef34f76e967"
      },
      "source": [
        "model.evaluate(\n",
        "    x=x_test, y=y_test, batch_size=batch_size, verbose=1\n",
        ")"
      ],
      "execution_count": null,
      "outputs": [
        {
          "output_type": "stream",
          "text": [
            "313/313 [==============================] - 1s 2ms/step - loss: 0.0374 - accuracy: 0.9897\n"
          ],
          "name": "stdout"
        },
        {
          "output_type": "execute_result",
          "data": {
            "text/plain": [
              "[0.037430163472890854, 0.9897000193595886]"
            ]
          },
          "metadata": {
            "tags": []
          },
          "execution_count": 10
        }
      ]
    },
    {
      "cell_type": "code",
      "metadata": {
        "id": "YmCChiHJWI9W",
        "colab_type": "code",
        "colab": {}
      },
      "source": [
        ""
      ],
      "execution_count": null,
      "outputs": []
    }
  ]
}